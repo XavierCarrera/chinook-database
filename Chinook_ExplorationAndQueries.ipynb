{
  "nbformat": 4,
  "nbformat_minor": 0,
  "metadata": {
    "colab": {
      "name": "Chinook_ExplorationAndQueries.ipynb",
      "provenance": [],
      "collapsed_sections": [],
      "authorship_tag": "ABX9TyMoRgCnJbV+9Kf5Fs62P9JU",
      "include_colab_link": true
    },
    "kernelspec": {
      "name": "python3",
      "display_name": "Python 3"
    },
    "language_info": {
      "name": "python"
    }
  },
  "cells": [
    {
      "cell_type": "markdown",
      "metadata": {
        "id": "view-in-github",
        "colab_type": "text"
      },
      "source": [
        "<a href=\"https://colab.research.google.com/github/XavierCarrera/chinook-database/blob/master/Chinook_ExplorationAndQueries.ipynb\" target=\"_parent\"><img src=\"https://colab.research.google.com/assets/colab-badge.svg\" alt=\"Open In Colab\"/></a>"
      ]
    },
    {
      "cell_type": "markdown",
      "metadata": {
        "id": "S2KLSWOpdtZ7"
      },
      "source": [
        "## Project Setup\n",
        "\n",
        "We start importing all needed libraries and connecting with the Chinook database, using SQL Alchemy engine."
      ]
    },
    {
      "cell_type": "code",
      "metadata": {
        "id": "XH4AaHAJgfDb"
      },
      "source": [
        "import sqlalchemy\n",
        "from sqlalchemy import create_engine\n",
        "import pandas as pd\n",
        "from google.colab import files"
      ],
      "execution_count": null,
      "outputs": []
    },
    {
      "cell_type": "code",
      "metadata": {
        "colab": {
          "base_uri": "https://localhost:8080/"
        },
        "id": "gJqL8slMnyNL",
        "outputId": "9ce9c639-058c-4a89-b91a-1718fe8dd8de"
      },
      "source": [
        "import urllib.request\n",
        "import zipfile\n",
        "from functools import partial\n",
        "import os\n",
        "\n",
        "chinook_url = 'http://www.sqlitetutorial.net/wp-content/uploads/2018/03/chinook.zip'\n",
        "if not os.path.exists('chinook.zip'):\n",
        "    print('downloading chinook.zip ', end='')\n",
        "    with urllib.request.urlopen(chinook_url) as response:\n",
        "        with open('chinook.zip', 'wb') as f:\n",
        "            for data in iter(partial(response.read, 4*1024), b''):\n",
        "                print('.', end='', flush=True)\n",
        "                f.write(data)\n",
        "\n",
        "zipfile.ZipFile('chinook.zip').extractall()\n",
        "assert os.path.exists('chinook.db')"
      ],
      "execution_count": null,
      "outputs": [
        {
          "output_type": "stream",
          "text": [
            "downloading chinook.zip ..........................................................................."
          ],
          "name": "stdout"
        }
      ]
    },
    {
      "cell_type": "code",
      "metadata": {
        "id": "JHwPs9vngmLs"
      },
      "source": [
        "engine = create_engine('sqlite:///chinook.db')\n",
        "con = engine.connect()"
      ],
      "execution_count": null,
      "outputs": []
    },
    {
      "cell_type": "markdown",
      "metadata": {
        "id": "h7D-Vo91oQ9E"
      },
      "source": [
        "## Data Exploration\n",
        "\n",
        "Before answering our business questions, we're going to perform a quick data exploration. We're interested to know:\n",
        "\n",
        "* Tables names\n",
        "* Column names\n",
        "* Number of null values in each table\n",
        "* Minimun and maximun invoice dates."
      ]
    },
    {
      "cell_type": "code",
      "metadata": {
        "colab": {
          "base_uri": "https://localhost:8080/"
        },
        "id": "-th406n4ibLu",
        "outputId": "155cf0ff-411f-4f2f-d5a3-897648e2e99a"
      },
      "source": [
        "table_names = engine.table_names()\n",
        "print(table_names)"
      ],
      "execution_count": null,
      "outputs": [
        {
          "output_type": "stream",
          "text": [
            "['albums', 'artists', 'customers', 'employees', 'genres', 'invoice_items', 'invoices', 'media_types', 'playlist_track', 'playlists', 'sqlite_sequence', 'sqlite_stat1', 'tracks']\n"
          ],
          "name": "stdout"
        },
        {
          "output_type": "stream",
          "text": [
            "/usr/local/lib/python3.7/dist-packages/ipykernel_launcher.py:1: SADeprecationWarning: The Engine.table_names() method is deprecated and will be removed in a future release.  Please refer to Inspector.get_table_names(). (deprecated since: 1.4)\n",
            "  \"\"\"Entry point for launching an IPython kernel.\n"
          ],
          "name": "stderr"
        }
      ]
    },
    {
      "cell_type": "code",
      "metadata": {
        "colab": {
          "base_uri": "https://localhost:8080/"
        },
        "id": "4d6SZ2fSoMK0",
        "outputId": "fb0e3d0a-2bb0-4d60-d2e3-a9c6b9b50811"
      },
      "source": [
        "for i in table_names:\n",
        "\n",
        "  query = pd.read_sql_query(f\"SELECT * FROM {i};\", engine).head(3)\n",
        "  query.name = i\n",
        "  query_nulls = query.isnull().sum()\n",
        "\n",
        "  print(query.name)\n",
        "  print(query_nulls)\n",
        "  print(\"--------------------------------------------------------------------------------------------------\")"
      ],
      "execution_count": null,
      "outputs": [
        {
          "output_type": "stream",
          "text": [
            "albums\n",
            "AlbumId     0\n",
            "Title       0\n",
            "ArtistId    0\n",
            "dtype: int64\n",
            "--------------------------------------------------------------------------------------------------\n",
            "artists\n",
            "ArtistId    0\n",
            "Name        0\n",
            "dtype: int64\n",
            "--------------------------------------------------------------------------------------------------\n",
            "customers\n",
            "CustomerId      0\n",
            "FirstName       0\n",
            "LastName        0\n",
            "Company         2\n",
            "Address         0\n",
            "City            0\n",
            "State           1\n",
            "Country         0\n",
            "PostalCode      0\n",
            "Phone           0\n",
            "Fax             2\n",
            "Email           0\n",
            "SupportRepId    0\n",
            "dtype: int64\n",
            "--------------------------------------------------------------------------------------------------\n",
            "employees\n",
            "EmployeeId    0\n",
            "LastName      0\n",
            "FirstName     0\n",
            "Title         0\n",
            "ReportsTo     1\n",
            "BirthDate     0\n",
            "HireDate      0\n",
            "Address       0\n",
            "City          0\n",
            "State         0\n",
            "Country       0\n",
            "PostalCode    0\n",
            "Phone         0\n",
            "Fax           0\n",
            "Email         0\n",
            "dtype: int64\n",
            "--------------------------------------------------------------------------------------------------\n",
            "genres\n",
            "GenreId    0\n",
            "Name       0\n",
            "dtype: int64\n",
            "--------------------------------------------------------------------------------------------------\n",
            "invoice_items\n",
            "InvoiceLineId    0\n",
            "InvoiceId        0\n",
            "TrackId          0\n",
            "UnitPrice        0\n",
            "Quantity         0\n",
            "dtype: int64\n",
            "--------------------------------------------------------------------------------------------------\n",
            "invoices\n",
            "InvoiceId            0\n",
            "CustomerId           0\n",
            "InvoiceDate          0\n",
            "BillingAddress       0\n",
            "BillingCity          0\n",
            "BillingState         3\n",
            "BillingCountry       0\n",
            "BillingPostalCode    0\n",
            "Total                0\n",
            "dtype: int64\n",
            "--------------------------------------------------------------------------------------------------\n",
            "media_types\n",
            "MediaTypeId    0\n",
            "Name           0\n",
            "dtype: int64\n",
            "--------------------------------------------------------------------------------------------------\n",
            "playlist_track\n",
            "PlaylistId    0\n",
            "TrackId       0\n",
            "dtype: int64\n",
            "--------------------------------------------------------------------------------------------------\n",
            "playlists\n",
            "PlaylistId    0\n",
            "Name          0\n",
            "dtype: int64\n",
            "--------------------------------------------------------------------------------------------------\n",
            "0    sqlite_sequence\n",
            "1    sqlite_sequence\n",
            "2    sqlite_sequence\n",
            "Name: name, dtype: object\n",
            "name    0\n",
            "seq     0\n",
            "dtype: int64\n",
            "--------------------------------------------------------------------------------------------------\n",
            "sqlite_stat1\n",
            "tbl     0\n",
            "idx     0\n",
            "stat    0\n",
            "dtype: int64\n",
            "--------------------------------------------------------------------------------------------------\n",
            "tracks\n",
            "TrackId         0\n",
            "Name            0\n",
            "AlbumId         0\n",
            "MediaTypeId     0\n",
            "GenreId         0\n",
            "Composer        1\n",
            "Milliseconds    0\n",
            "Bytes           0\n",
            "UnitPrice       0\n",
            "dtype: int64\n",
            "--------------------------------------------------------------------------------------------------\n"
          ],
          "name": "stdout"
        }
      ]
    },
    {
      "cell_type": "code",
      "metadata": {
        "colab": {
          "base_uri": "https://localhost:8080/",
          "height": 80
        },
        "id": "hsiVcUPNjznf",
        "outputId": "9065eb8c-1369-4f8a-a74d-c7f36131f5b2"
      },
      "source": [
        "pd.read_sql_query('''SELECT \n",
        "                      MIN(InvoiceDate),\n",
        "                      MAX(InvoiceDate) \n",
        "                      FROM invoices;''', engine)"
      ],
      "execution_count": null,
      "outputs": [
        {
          "output_type": "execute_result",
          "data": {
            "text/html": [
              "<div>\n",
              "<style scoped>\n",
              "    .dataframe tbody tr th:only-of-type {\n",
              "        vertical-align: middle;\n",
              "    }\n",
              "\n",
              "    .dataframe tbody tr th {\n",
              "        vertical-align: top;\n",
              "    }\n",
              "\n",
              "    .dataframe thead th {\n",
              "        text-align: right;\n",
              "    }\n",
              "</style>\n",
              "<table border=\"1\" class=\"dataframe\">\n",
              "  <thead>\n",
              "    <tr style=\"text-align: right;\">\n",
              "      <th></th>\n",
              "      <th>MIN(InvoiceDate)</th>\n",
              "      <th>MAX(InvoiceDate)</th>\n",
              "    </tr>\n",
              "  </thead>\n",
              "  <tbody>\n",
              "    <tr>\n",
              "      <th>0</th>\n",
              "      <td>2009-01-01 00:00:00</td>\n",
              "      <td>2013-12-22 00:00:00</td>\n",
              "    </tr>\n",
              "  </tbody>\n",
              "</table>\n",
              "</div>"
            ],
            "text/plain": [
              "      MIN(InvoiceDate)     MAX(InvoiceDate)\n",
              "0  2009-01-01 00:00:00  2013-12-22 00:00:00"
            ]
          },
          "metadata": {
            "tags": []
          },
          "execution_count": 6
        }
      ]
    },
    {
      "cell_type": "markdown",
      "metadata": {
        "id": "djSKYctKcKUq"
      },
      "source": [
        "## Querying\n",
        "\n",
        "**Business Question #1**\n",
        "\n",
        "What was the total revenue in 2013, average revenue per user and rolling year revenue (as of December)?"
      ]
    },
    {
      "cell_type": "code",
      "metadata": {
        "colab": {
          "base_uri": "https://localhost:8080/",
          "height": 80
        },
        "id": "5oIMOji1oLnx",
        "outputId": "281d70d2-2864-48ff-a4b7-f44487a6fed5"
      },
      "source": [
        "summary_stats = pd.read_sql_query('''WITH current_year AS (\n",
        "                        SELECT\n",
        "                          i.CustomerId, \n",
        "                          SUM(ii.UnitPrice * ii.Quantity) AS current_revenue\n",
        "                        FROM invoice_items AS ii\n",
        "                        LEFT JOIN invoices AS i\n",
        "                          ON ii.InvoiceId = i.InvoiceId\n",
        "                        WHERE i.InvoiceDate BETWEEN '2013-01-01' AND '2013-12-01'\n",
        "                        GROUP BY CustomerId),\n",
        "                      last_year AS (\n",
        "                        SELECT\n",
        "                          SUM(ii.UnitPrice * ii.Quantity) AS last_revenue\n",
        "                        FROM invoice_items AS ii\n",
        "                        LEFT JOIN invoices AS i\n",
        "                          ON ii.InvoiceId = i.InvoiceId\n",
        "                        WHERE i.InvoiceDate BETWEEN '2012-01-01' AND '2012-12-01'\n",
        "                      )\n",
        "\n",
        "                      SELECT\n",
        "                        SUM(current_revenue) as YearRevenue, \n",
        "                        ROUND(AVG(current_revenue), 2) AS ARPU,\n",
        "                        ROUND(SUM(current_revenue) / last_revenue - 1, 2) AS RollingYear\n",
        "                      FROM current_year, last_year;''', engine)\n",
        "\n",
        "summary_stats.to_csv('summary_stats.csv', index=False)\n",
        "summary_stats"
      ],
      "execution_count": null,
      "outputs": [
        {
          "output_type": "execute_result",
          "data": {
            "text/html": [
              "<div>\n",
              "<style scoped>\n",
              "    .dataframe tbody tr th:only-of-type {\n",
              "        vertical-align: middle;\n",
              "    }\n",
              "\n",
              "    .dataframe tbody tr th {\n",
              "        vertical-align: top;\n",
              "    }\n",
              "\n",
              "    .dataframe thead th {\n",
              "        text-align: right;\n",
              "    }\n",
              "</style>\n",
              "<table border=\"1\" class=\"dataframe\">\n",
              "  <thead>\n",
              "    <tr style=\"text-align: right;\">\n",
              "      <th></th>\n",
              "      <th>YearRevenue</th>\n",
              "      <th>ARPU</th>\n",
              "      <th>RollingYear</th>\n",
              "    </tr>\n",
              "  </thead>\n",
              "  <tbody>\n",
              "    <tr>\n",
              "      <th>0</th>\n",
              "      <td>411.96</td>\n",
              "      <td>9.36</td>\n",
              "      <td>-0.06</td>\n",
              "    </tr>\n",
              "  </tbody>\n",
              "</table>\n",
              "</div>"
            ],
            "text/plain": [
              "   YearRevenue  ARPU  RollingYear\n",
              "0       411.96  9.36        -0.06"
            ]
          },
          "metadata": {
            "tags": []
          },
          "execution_count": 7
        }
      ]
    },
    {
      "cell_type": "markdown",
      "metadata": {
        "id": "Zw27cDvoD_F2"
      },
      "source": [
        "**Business Question #2**\n",
        "\n",
        "How many users are there as per country?"
      ]
    },
    {
      "cell_type": "code",
      "metadata": {
        "colab": {
          "base_uri": "https://localhost:8080/",
          "height": 700
        },
        "id": "YFB1mJgw4Qq6",
        "outputId": "04275cbe-4360-403e-b58e-027427a0cfcf"
      },
      "source": [
        "global_users= pd.read_sql_query('''SELECT\n",
        "                        c.Country,\n",
        "                        COUNT(DISTINCT c.CustomerID) AS TotalUsers\n",
        "                    FROM customers AS c\n",
        "                    LEFT JOIN invoices AS i\n",
        "                        ON c.CustomerId = i.CustomerId\n",
        "                    WHERE i.InvoiceDate BETWEEN '2013-01-01' AND '2014-01-01'\n",
        "                    GROUP BY c.Country''', engine)\n",
        "\n",
        "global_users.to_csv('global_users.csv', index=False)\n",
        "global_users"
      ],
      "execution_count": null,
      "outputs": [
        {
          "output_type": "execute_result",
          "data": {
            "text/html": [
              "<div>\n",
              "<style scoped>\n",
              "    .dataframe tbody tr th:only-of-type {\n",
              "        vertical-align: middle;\n",
              "    }\n",
              "\n",
              "    .dataframe tbody tr th {\n",
              "        vertical-align: top;\n",
              "    }\n",
              "\n",
              "    .dataframe thead th {\n",
              "        text-align: right;\n",
              "    }\n",
              "</style>\n",
              "<table border=\"1\" class=\"dataframe\">\n",
              "  <thead>\n",
              "    <tr style=\"text-align: right;\">\n",
              "      <th></th>\n",
              "      <th>Country</th>\n",
              "      <th>TotalUsers</th>\n",
              "    </tr>\n",
              "  </thead>\n",
              "  <tbody>\n",
              "    <tr>\n",
              "      <th>0</th>\n",
              "      <td>Argentina</td>\n",
              "      <td>1</td>\n",
              "    </tr>\n",
              "    <tr>\n",
              "      <th>1</th>\n",
              "      <td>Austria</td>\n",
              "      <td>1</td>\n",
              "    </tr>\n",
              "    <tr>\n",
              "      <th>2</th>\n",
              "      <td>Belgium</td>\n",
              "      <td>1</td>\n",
              "    </tr>\n",
              "    <tr>\n",
              "      <th>3</th>\n",
              "      <td>Brazil</td>\n",
              "      <td>4</td>\n",
              "    </tr>\n",
              "    <tr>\n",
              "      <th>4</th>\n",
              "      <td>Canada</td>\n",
              "      <td>7</td>\n",
              "    </tr>\n",
              "    <tr>\n",
              "      <th>5</th>\n",
              "      <td>Czech Republic</td>\n",
              "      <td>2</td>\n",
              "    </tr>\n",
              "    <tr>\n",
              "      <th>6</th>\n",
              "      <td>Denmark</td>\n",
              "      <td>1</td>\n",
              "    </tr>\n",
              "    <tr>\n",
              "      <th>7</th>\n",
              "      <td>Finland</td>\n",
              "      <td>1</td>\n",
              "    </tr>\n",
              "    <tr>\n",
              "      <th>8</th>\n",
              "      <td>France</td>\n",
              "      <td>4</td>\n",
              "    </tr>\n",
              "    <tr>\n",
              "      <th>9</th>\n",
              "      <td>Germany</td>\n",
              "      <td>1</td>\n",
              "    </tr>\n",
              "    <tr>\n",
              "      <th>10</th>\n",
              "      <td>Hungary</td>\n",
              "      <td>1</td>\n",
              "    </tr>\n",
              "    <tr>\n",
              "      <th>11</th>\n",
              "      <td>India</td>\n",
              "      <td>1</td>\n",
              "    </tr>\n",
              "    <tr>\n",
              "      <th>12</th>\n",
              "      <td>Ireland</td>\n",
              "      <td>1</td>\n",
              "    </tr>\n",
              "    <tr>\n",
              "      <th>13</th>\n",
              "      <td>Italy</td>\n",
              "      <td>1</td>\n",
              "    </tr>\n",
              "    <tr>\n",
              "      <th>14</th>\n",
              "      <td>Netherlands</td>\n",
              "      <td>1</td>\n",
              "    </tr>\n",
              "    <tr>\n",
              "      <th>15</th>\n",
              "      <td>Norway</td>\n",
              "      <td>1</td>\n",
              "    </tr>\n",
              "    <tr>\n",
              "      <th>16</th>\n",
              "      <td>Poland</td>\n",
              "      <td>1</td>\n",
              "    </tr>\n",
              "    <tr>\n",
              "      <th>17</th>\n",
              "      <td>Portugal</td>\n",
              "      <td>1</td>\n",
              "    </tr>\n",
              "    <tr>\n",
              "      <th>18</th>\n",
              "      <td>Spain</td>\n",
              "      <td>1</td>\n",
              "    </tr>\n",
              "    <tr>\n",
              "      <th>19</th>\n",
              "      <td>USA</td>\n",
              "      <td>11</td>\n",
              "    </tr>\n",
              "    <tr>\n",
              "      <th>20</th>\n",
              "      <td>United Kingdom</td>\n",
              "      <td>3</td>\n",
              "    </tr>\n",
              "  </tbody>\n",
              "</table>\n",
              "</div>"
            ],
            "text/plain": [
              "           Country  TotalUsers\n",
              "0        Argentina           1\n",
              "1          Austria           1\n",
              "2          Belgium           1\n",
              "3           Brazil           4\n",
              "4           Canada           7\n",
              "5   Czech Republic           2\n",
              "6          Denmark           1\n",
              "7          Finland           1\n",
              "8           France           4\n",
              "9          Germany           1\n",
              "10         Hungary           1\n",
              "11           India           1\n",
              "12         Ireland           1\n",
              "13           Italy           1\n",
              "14     Netherlands           1\n",
              "15          Norway           1\n",
              "16          Poland           1\n",
              "17        Portugal           1\n",
              "18           Spain           1\n",
              "19             USA          11\n",
              "20  United Kingdom           3"
            ]
          },
          "metadata": {
            "tags": []
          },
          "execution_count": 8
        }
      ]
    },
    {
      "cell_type": "markdown",
      "metadata": {
        "id": "40-qMPu4EJhW"
      },
      "source": [
        "**Question #3**\n",
        "\n",
        "What was the rolling year growth (2013 vs 2012) as per country?"
      ]
    },
    {
      "cell_type": "code",
      "metadata": {
        "colab": {
          "base_uri": "https://localhost:8080/",
          "height": 700
        },
        "id": "5kHf4dsI74_s",
        "outputId": "1a17c46b-7f78-4a98-d24f-4bde0cd976cc"
      },
      "source": [
        "global_growth = pd.read_sql_query('''WITH users_2013 AS(\n",
        "                        SELECT\n",
        "                          c.Country AS country_2013,\n",
        "                          COUNT(DISTINCT c.CustomerID) AS TotalUsers2013\n",
        "                        FROM customers AS c\n",
        "                        LEFT JOIN invoices AS i\n",
        "                          ON c.CustomerId = i.CustomerId\n",
        "                        WHERE i.InvoiceDate BETWEEN '2013-01-01' AND '2013-12-01'\n",
        "                        GROUP BY c.Country),\n",
        "                      users_2012 AS (\n",
        "                        SELECT\n",
        "                          c.Country,\n",
        "                          COUNT(DISTINCT c.CustomerID) AS TotalUsers2012\n",
        "                        FROM customers AS c\n",
        "                        LEFT JOIN invoices AS i\n",
        "                          ON c.CustomerId = i.CustomerId\n",
        "                        WHERE i.InvoiceDate BETWEEN '2012-01-01' AND '2012-12-01'\n",
        "                        GROUP BY c.Country)\n",
        "\n",
        "                        SELECT \n",
        "                          country_2013,\n",
        "                          SUM(ROUND(TotalUsers2013 / TotalUsers2012 - 1, 2)) AS YearlyGrowth\n",
        "                        FROM users_2013, users_2012\n",
        "                        GROUP BY country_2013;''', engine)\n",
        "\n",
        "global_growth.to_csv('global_growth.csv', index=False)\n",
        "global_growth"
      ],
      "execution_count": null,
      "outputs": [
        {
          "output_type": "execute_result",
          "data": {
            "text/html": [
              "<div>\n",
              "<style scoped>\n",
              "    .dataframe tbody tr th:only-of-type {\n",
              "        vertical-align: middle;\n",
              "    }\n",
              "\n",
              "    .dataframe tbody tr th {\n",
              "        vertical-align: top;\n",
              "    }\n",
              "\n",
              "    .dataframe thead th {\n",
              "        text-align: right;\n",
              "    }\n",
              "</style>\n",
              "<table border=\"1\" class=\"dataframe\">\n",
              "  <thead>\n",
              "    <tr style=\"text-align: right;\">\n",
              "      <th></th>\n",
              "      <th>country_2013</th>\n",
              "      <th>YearlyGrowth</th>\n",
              "    </tr>\n",
              "  </thead>\n",
              "  <tbody>\n",
              "    <tr>\n",
              "      <th>0</th>\n",
              "      <td>Argentina</td>\n",
              "      <td>-7.0</td>\n",
              "    </tr>\n",
              "    <tr>\n",
              "      <th>1</th>\n",
              "      <td>Austria</td>\n",
              "      <td>-7.0</td>\n",
              "    </tr>\n",
              "    <tr>\n",
              "      <th>2</th>\n",
              "      <td>Belgium</td>\n",
              "      <td>-7.0</td>\n",
              "    </tr>\n",
              "    <tr>\n",
              "      <th>3</th>\n",
              "      <td>Brazil</td>\n",
              "      <td>39.0</td>\n",
              "    </tr>\n",
              "    <tr>\n",
              "      <th>4</th>\n",
              "      <td>Canada</td>\n",
              "      <td>81.0</td>\n",
              "    </tr>\n",
              "    <tr>\n",
              "      <th>5</th>\n",
              "      <td>Czech Republic</td>\n",
              "      <td>8.0</td>\n",
              "    </tr>\n",
              "    <tr>\n",
              "      <th>6</th>\n",
              "      <td>Denmark</td>\n",
              "      <td>-7.0</td>\n",
              "    </tr>\n",
              "    <tr>\n",
              "      <th>7</th>\n",
              "      <td>Finland</td>\n",
              "      <td>-7.0</td>\n",
              "    </tr>\n",
              "    <tr>\n",
              "      <th>8</th>\n",
              "      <td>France</td>\n",
              "      <td>39.0</td>\n",
              "    </tr>\n",
              "    <tr>\n",
              "      <th>9</th>\n",
              "      <td>Germany</td>\n",
              "      <td>-7.0</td>\n",
              "    </tr>\n",
              "    <tr>\n",
              "      <th>10</th>\n",
              "      <td>Hungary</td>\n",
              "      <td>-7.0</td>\n",
              "    </tr>\n",
              "    <tr>\n",
              "      <th>11</th>\n",
              "      <td>India</td>\n",
              "      <td>-7.0</td>\n",
              "    </tr>\n",
              "    <tr>\n",
              "      <th>12</th>\n",
              "      <td>Ireland</td>\n",
              "      <td>-7.0</td>\n",
              "    </tr>\n",
              "    <tr>\n",
              "      <th>13</th>\n",
              "      <td>Italy</td>\n",
              "      <td>-7.0</td>\n",
              "    </tr>\n",
              "    <tr>\n",
              "      <th>14</th>\n",
              "      <td>Netherlands</td>\n",
              "      <td>-7.0</td>\n",
              "    </tr>\n",
              "    <tr>\n",
              "      <th>15</th>\n",
              "      <td>Norway</td>\n",
              "      <td>-7.0</td>\n",
              "    </tr>\n",
              "    <tr>\n",
              "      <th>16</th>\n",
              "      <td>Poland</td>\n",
              "      <td>-7.0</td>\n",
              "    </tr>\n",
              "    <tr>\n",
              "      <th>17</th>\n",
              "      <td>Portugal</td>\n",
              "      <td>-7.0</td>\n",
              "    </tr>\n",
              "    <tr>\n",
              "      <th>18</th>\n",
              "      <td>Spain</td>\n",
              "      <td>-7.0</td>\n",
              "    </tr>\n",
              "    <tr>\n",
              "      <th>19</th>\n",
              "      <td>USA</td>\n",
              "      <td>112.0</td>\n",
              "    </tr>\n",
              "    <tr>\n",
              "      <th>20</th>\n",
              "      <td>United Kingdom</td>\n",
              "      <td>21.0</td>\n",
              "    </tr>\n",
              "  </tbody>\n",
              "</table>\n",
              "</div>"
            ],
            "text/plain": [
              "      country_2013  YearlyGrowth\n",
              "0        Argentina          -7.0\n",
              "1          Austria          -7.0\n",
              "2          Belgium          -7.0\n",
              "3           Brazil          39.0\n",
              "4           Canada          81.0\n",
              "5   Czech Republic           8.0\n",
              "6          Denmark          -7.0\n",
              "7          Finland          -7.0\n",
              "8           France          39.0\n",
              "9          Germany          -7.0\n",
              "10         Hungary          -7.0\n",
              "11           India          -7.0\n",
              "12         Ireland          -7.0\n",
              "13           Italy          -7.0\n",
              "14     Netherlands          -7.0\n",
              "15          Norway          -7.0\n",
              "16          Poland          -7.0\n",
              "17        Portugal          -7.0\n",
              "18           Spain          -7.0\n",
              "19             USA         112.0\n",
              "20  United Kingdom          21.0"
            ]
          },
          "metadata": {
            "tags": []
          },
          "execution_count": 9
        }
      ]
    },
    {
      "cell_type": "markdown",
      "metadata": {
        "id": "88rbKvT5EWDK"
      },
      "source": [
        "**Business Question #4**\n",
        "\n",
        "What were the most profitable genres during 2013?"
      ]
    },
    {
      "cell_type": "code",
      "metadata": {
        "colab": {
          "base_uri": "https://localhost:8080/",
          "height": 204
        },
        "id": "37EPMZaJFHoY",
        "outputId": "72d70c44-cd4e-4d39-8d95-7262295c12ed"
      },
      "source": [
        "top_genres = pd.read_sql_query('''SELECT \n",
        "                        Genre,\n",
        "                        SUM(price * quantity) AS Revenue\n",
        "                      FROM (\n",
        "                          SELECT \n",
        "                            g.Name AS Genre,\n",
        "                            ii.UnitPrice AS price,\n",
        "                            ii.Quantity AS quantity\n",
        "                          FROM genres AS g\n",
        "                          INNER JOIN tracks AS t \n",
        "                            ON g.GenreId = t.GenreId\n",
        "                          INNER JOIN invoice_items AS ii\n",
        "                            ON t.TrackId = ii.TrackId\n",
        "                          INNER JOIN invoices AS i\n",
        "                            ON ii.InvoiceId = i.InvoiceID\n",
        "                          WHERE i.InvoiceDate >= '2013-01-01')\n",
        "                        GROUP BY Genre\n",
        "                        ORDER BY Revenue DESC\n",
        "                        LIMIT 5''', engine)\n",
        "\n",
        "top_genres.to_csv('top_genres.csv', index=False)\n",
        "top_genres"
      ],
      "execution_count": null,
      "outputs": [
        {
          "output_type": "execute_result",
          "data": {
            "text/html": [
              "<div>\n",
              "<style scoped>\n",
              "    .dataframe tbody tr th:only-of-type {\n",
              "        vertical-align: middle;\n",
              "    }\n",
              "\n",
              "    .dataframe tbody tr th {\n",
              "        vertical-align: top;\n",
              "    }\n",
              "\n",
              "    .dataframe thead th {\n",
              "        text-align: right;\n",
              "    }\n",
              "</style>\n",
              "<table border=\"1\" class=\"dataframe\">\n",
              "  <thead>\n",
              "    <tr style=\"text-align: right;\">\n",
              "      <th></th>\n",
              "      <th>Genre</th>\n",
              "      <th>Revenue</th>\n",
              "    </tr>\n",
              "  </thead>\n",
              "  <tbody>\n",
              "    <tr>\n",
              "      <th>0</th>\n",
              "      <td>Rock</td>\n",
              "      <td>174.24</td>\n",
              "    </tr>\n",
              "    <tr>\n",
              "      <th>1</th>\n",
              "      <td>Latin</td>\n",
              "      <td>79.20</td>\n",
              "    </tr>\n",
              "    <tr>\n",
              "      <th>2</th>\n",
              "      <td>Alternative &amp; Punk</td>\n",
              "      <td>55.44</td>\n",
              "    </tr>\n",
              "    <tr>\n",
              "      <th>3</th>\n",
              "      <td>Metal</td>\n",
              "      <td>55.44</td>\n",
              "    </tr>\n",
              "    <tr>\n",
              "      <th>4</th>\n",
              "      <td>Jazz</td>\n",
              "      <td>21.78</td>\n",
              "    </tr>\n",
              "  </tbody>\n",
              "</table>\n",
              "</div>"
            ],
            "text/plain": [
              "                Genre  Revenue\n",
              "0                Rock   174.24\n",
              "1               Latin    79.20\n",
              "2  Alternative & Punk    55.44\n",
              "3               Metal    55.44\n",
              "4                Jazz    21.78"
            ]
          },
          "metadata": {
            "tags": []
          },
          "execution_count": 10
        }
      ]
    },
    {
      "cell_type": "markdown",
      "metadata": {
        "id": "kIabFnOOEgFH"
      },
      "source": [
        "**Business Question #5**\n",
        "\n",
        "What were the most profitable genres during 2013?"
      ]
    },
    {
      "cell_type": "code",
      "metadata": {
        "colab": {
          "base_uri": "https://localhost:8080/",
          "height": 204
        },
        "id": "UV3R5pBAMBgA",
        "outputId": "d8ecc1c8-960e-4dee-ce37-1a898295b352"
      },
      "source": [
        "top_artists = pd.read_sql_query('''SELECT \n",
        "                        Artist,\n",
        "                        SUM(price * quantity) AS Revenue\n",
        "                      FROM (\n",
        "                          SELECT \n",
        "                            ar.Name AS Artist,\n",
        "                            ii.UnitPrice AS price,\n",
        "                            ii.Quantity AS quantity\n",
        "                          FROM artists AS ar\n",
        "                          INNER JOIN albums AS al\n",
        "                            ON ar.ArtistId = al.ArtistId\n",
        "                          INNER JOIN tracks AS t \n",
        "                            ON al.AlbumId = t.AlbumId\n",
        "                          INNER JOIN invoice_items AS ii\n",
        "                            ON t.TrackId = ii.TrackId\n",
        "                          INNER JOIN invoices AS i\n",
        "                            ON ii.InvoiceId = i.InvoiceID\n",
        "                          WHERE i.InvoiceDate >= '2013-01-01')\n",
        "                        GROUP BY Artist\n",
        "                        ORDER BY Revenue DESC\n",
        "                        LIMIT 5''', engine)\n",
        "\n",
        "top_artists.to_csv('top_artists.csv', index=False)\n",
        "top_artists"
      ],
      "execution_count": null,
      "outputs": [
        {
          "output_type": "execute_result",
          "data": {
            "text/html": [
              "<div>\n",
              "<style scoped>\n",
              "    .dataframe tbody tr th:only-of-type {\n",
              "        vertical-align: middle;\n",
              "    }\n",
              "\n",
              "    .dataframe tbody tr th {\n",
              "        vertical-align: top;\n",
              "    }\n",
              "\n",
              "    .dataframe thead th {\n",
              "        text-align: right;\n",
              "    }\n",
              "</style>\n",
              "<table border=\"1\" class=\"dataframe\">\n",
              "  <thead>\n",
              "    <tr style=\"text-align: right;\">\n",
              "      <th></th>\n",
              "      <th>Artist</th>\n",
              "      <th>Revenue</th>\n",
              "    </tr>\n",
              "  </thead>\n",
              "  <tbody>\n",
              "    <tr>\n",
              "      <th>0</th>\n",
              "      <td>Iron Maiden</td>\n",
              "      <td>35.64</td>\n",
              "    </tr>\n",
              "    <tr>\n",
              "      <th>1</th>\n",
              "      <td>U2</td>\n",
              "      <td>24.75</td>\n",
              "    </tr>\n",
              "    <tr>\n",
              "      <th>2</th>\n",
              "      <td>Metallica</td>\n",
              "      <td>16.83</td>\n",
              "    </tr>\n",
              "    <tr>\n",
              "      <th>3</th>\n",
              "      <td>Lost</td>\n",
              "      <td>15.92</td>\n",
              "    </tr>\n",
              "    <tr>\n",
              "      <th>4</th>\n",
              "      <td>Led Zeppelin</td>\n",
              "      <td>14.85</td>\n",
              "    </tr>\n",
              "  </tbody>\n",
              "</table>\n",
              "</div>"
            ],
            "text/plain": [
              "         Artist  Revenue\n",
              "0   Iron Maiden    35.64\n",
              "1            U2    24.75\n",
              "2     Metallica    16.83\n",
              "3          Lost    15.92\n",
              "4  Led Zeppelin    14.85"
            ]
          },
          "metadata": {
            "tags": []
          },
          "execution_count": 11
        }
      ]
    },
    {
      "cell_type": "markdown",
      "metadata": {
        "id": "uFDekfT5EqKL"
      },
      "source": [
        "**Business Quesiton #6**\n",
        "\n",
        "What was the revenue during each 2013 quarter?"
      ]
    },
    {
      "cell_type": "code",
      "metadata": {
        "colab": {
          "base_uri": "https://localhost:8080/",
          "height": 173
        },
        "id": "8xPAPUfUoL-5",
        "outputId": "7cc8375f-b0d8-4821-c27f-71ebe0641b4d"
      },
      "source": [
        "quarters = pd.read_sql_query('''SELECT \n",
        "                        CASE \n",
        "                              WHEN i.InvoiceDate BETWEEN '2013-01-01' AND '2013-04-01' THEN 'Q1'\n",
        "                              WHEN i.InvoiceDate BETWEEN '2013-04-01' AND '2013-07-01' THEN 'Q2'\n",
        "                              WHEN i.InvoiceDate BETWEEN '2013-07-01' AND '2013-10-01' THEN 'Q3'\n",
        "                              WHEN i.InvoiceDate BETWEEN '2013-10-01' AND '2014-01-01' THEN 'Q4' \n",
        "                              END AS Quarter,\n",
        "                        SUM(ii.UnitPrice * ii.Quantity) AS Revenue\n",
        "                      FROM invoices AS i\n",
        "                      LEFT JOIN invoice_items AS ii\n",
        "                        ON i.InvoiceId = ii.InvoiceId\n",
        "                      GROUP BY Quarter\n",
        "                      HAVING i.InvoiceDate >= '2013-01-01';''', engine)\n",
        "\n",
        "quarters.to_csv('quarters.csv', index=False)\n",
        "quarters"
      ],
      "execution_count": null,
      "outputs": [
        {
          "output_type": "execute_result",
          "data": {
            "text/html": [
              "<div>\n",
              "<style scoped>\n",
              "    .dataframe tbody tr th:only-of-type {\n",
              "        vertical-align: middle;\n",
              "    }\n",
              "\n",
              "    .dataframe tbody tr th {\n",
              "        vertical-align: top;\n",
              "    }\n",
              "\n",
              "    .dataframe thead th {\n",
              "        text-align: right;\n",
              "    }\n",
              "</style>\n",
              "<table border=\"1\" class=\"dataframe\">\n",
              "  <thead>\n",
              "    <tr style=\"text-align: right;\">\n",
              "      <th></th>\n",
              "      <th>Quarter</th>\n",
              "      <th>Revenue</th>\n",
              "    </tr>\n",
              "  </thead>\n",
              "  <tbody>\n",
              "    <tr>\n",
              "      <th>0</th>\n",
              "      <td>Q1</td>\n",
              "      <td>102.96</td>\n",
              "    </tr>\n",
              "    <tr>\n",
              "      <th>1</th>\n",
              "      <td>Q2</td>\n",
              "      <td>108.90</td>\n",
              "    </tr>\n",
              "    <tr>\n",
              "      <th>2</th>\n",
              "      <td>Q3</td>\n",
              "      <td>112.86</td>\n",
              "    </tr>\n",
              "    <tr>\n",
              "      <th>3</th>\n",
              "      <td>Q4</td>\n",
              "      <td>125.86</td>\n",
              "    </tr>\n",
              "  </tbody>\n",
              "</table>\n",
              "</div>"
            ],
            "text/plain": [
              "  Quarter  Revenue\n",
              "0      Q1   102.96\n",
              "1      Q2   108.90\n",
              "2      Q3   112.86\n",
              "3      Q4   125.86"
            ]
          },
          "metadata": {
            "tags": []
          },
          "execution_count": 12
        }
      ]
    },
    {
      "cell_type": "markdown",
      "metadata": {
        "id": "vG9g3WeVE11Z"
      },
      "source": [
        "**Business Quesiton #7**\n",
        "\n",
        "What was the total daily revenue and total active users during 2013?"
      ]
    },
    {
      "cell_type": "code",
      "metadata": {
        "colab": {
          "base_uri": "https://localhost:8080/",
          "height": 419
        },
        "id": "yoBQyd64b8Br",
        "outputId": "f663ee80-8bcf-48ec-d6e7-3d03dad949d2"
      },
      "source": [
        "active_users = pd.read_sql_query('''SELECT\n",
        "                        DATE(i.InvoiceDate) as Date,\n",
        "                        SUM(ii.UnitPrice * ii.Quantity) AS Revenue,\n",
        "                        COUNT(DISTINCT i.CustomerId) AS ActiveUsers\n",
        "                      FROM invoices AS i\n",
        "                      LEFT JOIN invoice_items AS ii\n",
        "                        ON i.InvoiceId = ii.InvoiceId\n",
        "                      GROUP BY Date;''', engine)\n",
        "\n",
        "active_users.to_csv('active_users.csv', index=False)\n",
        "active_users"
      ],
      "execution_count": null,
      "outputs": [
        {
          "output_type": "execute_result",
          "data": {
            "text/html": [
              "<div>\n",
              "<style scoped>\n",
              "    .dataframe tbody tr th:only-of-type {\n",
              "        vertical-align: middle;\n",
              "    }\n",
              "\n",
              "    .dataframe tbody tr th {\n",
              "        vertical-align: top;\n",
              "    }\n",
              "\n",
              "    .dataframe thead th {\n",
              "        text-align: right;\n",
              "    }\n",
              "</style>\n",
              "<table border=\"1\" class=\"dataframe\">\n",
              "  <thead>\n",
              "    <tr style=\"text-align: right;\">\n",
              "      <th></th>\n",
              "      <th>Date</th>\n",
              "      <th>Revenue</th>\n",
              "      <th>ActiveUsers</th>\n",
              "    </tr>\n",
              "  </thead>\n",
              "  <tbody>\n",
              "    <tr>\n",
              "      <th>0</th>\n",
              "      <td>2009-01-01</td>\n",
              "      <td>1.98</td>\n",
              "      <td>1</td>\n",
              "    </tr>\n",
              "    <tr>\n",
              "      <th>1</th>\n",
              "      <td>2009-01-02</td>\n",
              "      <td>3.96</td>\n",
              "      <td>1</td>\n",
              "    </tr>\n",
              "    <tr>\n",
              "      <th>2</th>\n",
              "      <td>2009-01-03</td>\n",
              "      <td>5.94</td>\n",
              "      <td>1</td>\n",
              "    </tr>\n",
              "    <tr>\n",
              "      <th>3</th>\n",
              "      <td>2009-01-06</td>\n",
              "      <td>8.91</td>\n",
              "      <td>1</td>\n",
              "    </tr>\n",
              "    <tr>\n",
              "      <th>4</th>\n",
              "      <td>2009-01-11</td>\n",
              "      <td>13.86</td>\n",
              "      <td>1</td>\n",
              "    </tr>\n",
              "    <tr>\n",
              "      <th>...</th>\n",
              "      <td>...</td>\n",
              "      <td>...</td>\n",
              "      <td>...</td>\n",
              "    </tr>\n",
              "    <tr>\n",
              "      <th>349</th>\n",
              "      <td>2013-12-05</td>\n",
              "      <td>3.96</td>\n",
              "      <td>1</td>\n",
              "    </tr>\n",
              "    <tr>\n",
              "      <th>350</th>\n",
              "      <td>2013-12-06</td>\n",
              "      <td>5.94</td>\n",
              "      <td>1</td>\n",
              "    </tr>\n",
              "    <tr>\n",
              "      <th>351</th>\n",
              "      <td>2013-12-09</td>\n",
              "      <td>8.91</td>\n",
              "      <td>1</td>\n",
              "    </tr>\n",
              "    <tr>\n",
              "      <th>352</th>\n",
              "      <td>2013-12-14</td>\n",
              "      <td>13.86</td>\n",
              "      <td>1</td>\n",
              "    </tr>\n",
              "    <tr>\n",
              "      <th>353</th>\n",
              "      <td>2013-12-22</td>\n",
              "      <td>1.99</td>\n",
              "      <td>1</td>\n",
              "    </tr>\n",
              "  </tbody>\n",
              "</table>\n",
              "<p>354 rows × 3 columns</p>\n",
              "</div>"
            ],
            "text/plain": [
              "           Date  Revenue  ActiveUsers\n",
              "0    2009-01-01     1.98            1\n",
              "1    2009-01-02     3.96            1\n",
              "2    2009-01-03     5.94            1\n",
              "3    2009-01-06     8.91            1\n",
              "4    2009-01-11    13.86            1\n",
              "..          ...      ...          ...\n",
              "349  2013-12-05     3.96            1\n",
              "350  2013-12-06     5.94            1\n",
              "351  2013-12-09     8.91            1\n",
              "352  2013-12-14    13.86            1\n",
              "353  2013-12-22     1.99            1\n",
              "\n",
              "[354 rows x 3 columns]"
            ]
          },
          "metadata": {
            "tags": []
          },
          "execution_count": 13
        }
      ]
    },
    {
      "cell_type": "markdown",
      "metadata": {
        "id": "BJkgqrB8CbhP"
      },
      "source": [
        "Finally, we download our dataframes as CSV for further use. "
      ]
    },
    {
      "cell_type": "code",
      "metadata": {
        "colab": {
          "base_uri": "https://localhost:8080/",
          "height": 17
        },
        "id": "hUFCJiLFOOfs",
        "outputId": "b71c42c1-2af9-4de5-85ed-bd702740cf66"
      },
      "source": [
        "datasets = ['summary_stats.csv', 'global_users.csv', 'global_growth.csv',\n",
        "            'top_genres.csv', 'top_artists.csv', 'quarters.csv', 'active_users.csv']\n",
        "\n",
        "for i in datasets:\n",
        "  files.download(i)"
      ],
      "execution_count": null,
      "outputs": [
        {
          "output_type": "display_data",
          "data": {
            "application/javascript": [
              "\n",
              "    async function download(id, filename, size) {\n",
              "      if (!google.colab.kernel.accessAllowed) {\n",
              "        return;\n",
              "      }\n",
              "      const div = document.createElement('div');\n",
              "      const label = document.createElement('label');\n",
              "      label.textContent = `Downloading \"${filename}\": `;\n",
              "      div.appendChild(label);\n",
              "      const progress = document.createElement('progress');\n",
              "      progress.max = size;\n",
              "      div.appendChild(progress);\n",
              "      document.body.appendChild(div);\n",
              "\n",
              "      const buffers = [];\n",
              "      let downloaded = 0;\n",
              "\n",
              "      const channel = await google.colab.kernel.comms.open(id);\n",
              "      // Send a message to notify the kernel that we're ready.\n",
              "      channel.send({})\n",
              "\n",
              "      for await (const message of channel.messages) {\n",
              "        // Send a message to notify the kernel that we're ready.\n",
              "        channel.send({})\n",
              "        if (message.buffers) {\n",
              "          for (const buffer of message.buffers) {\n",
              "            buffers.push(buffer);\n",
              "            downloaded += buffer.byteLength;\n",
              "            progress.value = downloaded;\n",
              "          }\n",
              "        }\n",
              "      }\n",
              "      const blob = new Blob(buffers, {type: 'application/binary'});\n",
              "      const a = document.createElement('a');\n",
              "      a.href = window.URL.createObjectURL(blob);\n",
              "      a.download = filename;\n",
              "      div.appendChild(a);\n",
              "      a.click();\n",
              "      div.remove();\n",
              "    }\n",
              "  "
            ],
            "text/plain": [
              "<IPython.core.display.Javascript object>"
            ]
          },
          "metadata": {
            "tags": []
          }
        },
        {
          "output_type": "display_data",
          "data": {
            "application/javascript": [
              "download(\"download_a0278f96-3475-4fb5-a5c2-226dc7939c4f\", \"summary_stats.csv\", 59)"
            ],
            "text/plain": [
              "<IPython.core.display.Javascript object>"
            ]
          },
          "metadata": {
            "tags": []
          }
        },
        {
          "output_type": "display_data",
          "data": {
            "application/javascript": [
              "\n",
              "    async function download(id, filename, size) {\n",
              "      if (!google.colab.kernel.accessAllowed) {\n",
              "        return;\n",
              "      }\n",
              "      const div = document.createElement('div');\n",
              "      const label = document.createElement('label');\n",
              "      label.textContent = `Downloading \"${filename}\": `;\n",
              "      div.appendChild(label);\n",
              "      const progress = document.createElement('progress');\n",
              "      progress.max = size;\n",
              "      div.appendChild(progress);\n",
              "      document.body.appendChild(div);\n",
              "\n",
              "      const buffers = [];\n",
              "      let downloaded = 0;\n",
              "\n",
              "      const channel = await google.colab.kernel.comms.open(id);\n",
              "      // Send a message to notify the kernel that we're ready.\n",
              "      channel.send({})\n",
              "\n",
              "      for await (const message of channel.messages) {\n",
              "        // Send a message to notify the kernel that we're ready.\n",
              "        channel.send({})\n",
              "        if (message.buffers) {\n",
              "          for (const buffer of message.buffers) {\n",
              "            buffers.push(buffer);\n",
              "            downloaded += buffer.byteLength;\n",
              "            progress.value = downloaded;\n",
              "          }\n",
              "        }\n",
              "      }\n",
              "      const blob = new Blob(buffers, {type: 'application/binary'});\n",
              "      const a = document.createElement('a');\n",
              "      a.href = window.URL.createObjectURL(blob);\n",
              "      a.download = filename;\n",
              "      div.appendChild(a);\n",
              "      a.click();\n",
              "      div.remove();\n",
              "    }\n",
              "  "
            ],
            "text/plain": [
              "<IPython.core.display.Javascript object>"
            ]
          },
          "metadata": {
            "tags": []
          }
        },
        {
          "output_type": "display_data",
          "data": {
            "application/javascript": [
              "download(\"download_10b8249a-cec2-469d-94ec-f5a4ed15044f\", \"global_users.csv\", 236)"
            ],
            "text/plain": [
              "<IPython.core.display.Javascript object>"
            ]
          },
          "metadata": {
            "tags": []
          }
        },
        {
          "output_type": "display_data",
          "data": {
            "application/javascript": [
              "\n",
              "    async function download(id, filename, size) {\n",
              "      if (!google.colab.kernel.accessAllowed) {\n",
              "        return;\n",
              "      }\n",
              "      const div = document.createElement('div');\n",
              "      const label = document.createElement('label');\n",
              "      label.textContent = `Downloading \"${filename}\": `;\n",
              "      div.appendChild(label);\n",
              "      const progress = document.createElement('progress');\n",
              "      progress.max = size;\n",
              "      div.appendChild(progress);\n",
              "      document.body.appendChild(div);\n",
              "\n",
              "      const buffers = [];\n",
              "      let downloaded = 0;\n",
              "\n",
              "      const channel = await google.colab.kernel.comms.open(id);\n",
              "      // Send a message to notify the kernel that we're ready.\n",
              "      channel.send({})\n",
              "\n",
              "      for await (const message of channel.messages) {\n",
              "        // Send a message to notify the kernel that we're ready.\n",
              "        channel.send({})\n",
              "        if (message.buffers) {\n",
              "          for (const buffer of message.buffers) {\n",
              "            buffers.push(buffer);\n",
              "            downloaded += buffer.byteLength;\n",
              "            progress.value = downloaded;\n",
              "          }\n",
              "        }\n",
              "      }\n",
              "      const blob = new Blob(buffers, {type: 'application/binary'});\n",
              "      const a = document.createElement('a');\n",
              "      a.href = window.URL.createObjectURL(blob);\n",
              "      a.download = filename;\n",
              "      div.appendChild(a);\n",
              "      a.click();\n",
              "      div.remove();\n",
              "    }\n",
              "  "
            ],
            "text/plain": [
              "<IPython.core.display.Javascript object>"
            ]
          },
          "metadata": {
            "tags": []
          }
        },
        {
          "output_type": "display_data",
          "data": {
            "application/javascript": [
              "download(\"download_be6e872e-0dc1-477a-8e1a-e970f934b563\", \"global_growth.csv\", 305)"
            ],
            "text/plain": [
              "<IPython.core.display.Javascript object>"
            ]
          },
          "metadata": {
            "tags": []
          }
        },
        {
          "output_type": "display_data",
          "data": {
            "application/javascript": [
              "\n",
              "    async function download(id, filename, size) {\n",
              "      if (!google.colab.kernel.accessAllowed) {\n",
              "        return;\n",
              "      }\n",
              "      const div = document.createElement('div');\n",
              "      const label = document.createElement('label');\n",
              "      label.textContent = `Downloading \"${filename}\": `;\n",
              "      div.appendChild(label);\n",
              "      const progress = document.createElement('progress');\n",
              "      progress.max = size;\n",
              "      div.appendChild(progress);\n",
              "      document.body.appendChild(div);\n",
              "\n",
              "      const buffers = [];\n",
              "      let downloaded = 0;\n",
              "\n",
              "      const channel = await google.colab.kernel.comms.open(id);\n",
              "      // Send a message to notify the kernel that we're ready.\n",
              "      channel.send({})\n",
              "\n",
              "      for await (const message of channel.messages) {\n",
              "        // Send a message to notify the kernel that we're ready.\n",
              "        channel.send({})\n",
              "        if (message.buffers) {\n",
              "          for (const buffer of message.buffers) {\n",
              "            buffers.push(buffer);\n",
              "            downloaded += buffer.byteLength;\n",
              "            progress.value = downloaded;\n",
              "          }\n",
              "        }\n",
              "      }\n",
              "      const blob = new Blob(buffers, {type: 'application/binary'});\n",
              "      const a = document.createElement('a');\n",
              "      a.href = window.URL.createObjectURL(blob);\n",
              "      a.download = filename;\n",
              "      div.appendChild(a);\n",
              "      a.click();\n",
              "      div.remove();\n",
              "    }\n",
              "  "
            ],
            "text/plain": [
              "<IPython.core.display.Javascript object>"
            ]
          },
          "metadata": {
            "tags": []
          }
        },
        {
          "output_type": "display_data",
          "data": {
            "application/javascript": [
              "download(\"download_89f6d081-f4d0-41b7-8fa2-9f8795b83a43\", \"top_genres.csv\", 149)"
            ],
            "text/plain": [
              "<IPython.core.display.Javascript object>"
            ]
          },
          "metadata": {
            "tags": []
          }
        },
        {
          "output_type": "display_data",
          "data": {
            "application/javascript": [
              "\n",
              "    async function download(id, filename, size) {\n",
              "      if (!google.colab.kernel.accessAllowed) {\n",
              "        return;\n",
              "      }\n",
              "      const div = document.createElement('div');\n",
              "      const label = document.createElement('label');\n",
              "      label.textContent = `Downloading \"${filename}\": `;\n",
              "      div.appendChild(label);\n",
              "      const progress = document.createElement('progress');\n",
              "      progress.max = size;\n",
              "      div.appendChild(progress);\n",
              "      document.body.appendChild(div);\n",
              "\n",
              "      const buffers = [];\n",
              "      let downloaded = 0;\n",
              "\n",
              "      const channel = await google.colab.kernel.comms.open(id);\n",
              "      // Send a message to notify the kernel that we're ready.\n",
              "      channel.send({})\n",
              "\n",
              "      for await (const message of channel.messages) {\n",
              "        // Send a message to notify the kernel that we're ready.\n",
              "        channel.send({})\n",
              "        if (message.buffers) {\n",
              "          for (const buffer of message.buffers) {\n",
              "            buffers.push(buffer);\n",
              "            downloaded += buffer.byteLength;\n",
              "            progress.value = downloaded;\n",
              "          }\n",
              "        }\n",
              "      }\n",
              "      const blob = new Blob(buffers, {type: 'application/binary'});\n",
              "      const a = document.createElement('a');\n",
              "      a.href = window.URL.createObjectURL(blob);\n",
              "      a.download = filename;\n",
              "      div.appendChild(a);\n",
              "      a.click();\n",
              "      div.remove();\n",
              "    }\n",
              "  "
            ],
            "text/plain": [
              "<IPython.core.display.Javascript object>"
            ]
          },
          "metadata": {
            "tags": []
          }
        },
        {
          "output_type": "display_data",
          "data": {
            "application/javascript": [
              "download(\"download_edcf4eb7-becd-49f5-90b6-1e5095a6488a\", \"top_artists.csv\", 139)"
            ],
            "text/plain": [
              "<IPython.core.display.Javascript object>"
            ]
          },
          "metadata": {
            "tags": []
          }
        },
        {
          "output_type": "display_data",
          "data": {
            "application/javascript": [
              "\n",
              "    async function download(id, filename, size) {\n",
              "      if (!google.colab.kernel.accessAllowed) {\n",
              "        return;\n",
              "      }\n",
              "      const div = document.createElement('div');\n",
              "      const label = document.createElement('label');\n",
              "      label.textContent = `Downloading \"${filename}\": `;\n",
              "      div.appendChild(label);\n",
              "      const progress = document.createElement('progress');\n",
              "      progress.max = size;\n",
              "      div.appendChild(progress);\n",
              "      document.body.appendChild(div);\n",
              "\n",
              "      const buffers = [];\n",
              "      let downloaded = 0;\n",
              "\n",
              "      const channel = await google.colab.kernel.comms.open(id);\n",
              "      // Send a message to notify the kernel that we're ready.\n",
              "      channel.send({})\n",
              "\n",
              "      for await (const message of channel.messages) {\n",
              "        // Send a message to notify the kernel that we're ready.\n",
              "        channel.send({})\n",
              "        if (message.buffers) {\n",
              "          for (const buffer of message.buffers) {\n",
              "            buffers.push(buffer);\n",
              "            downloaded += buffer.byteLength;\n",
              "            progress.value = downloaded;\n",
              "          }\n",
              "        }\n",
              "      }\n",
              "      const blob = new Blob(buffers, {type: 'application/binary'});\n",
              "      const a = document.createElement('a');\n",
              "      a.href = window.URL.createObjectURL(blob);\n",
              "      a.download = filename;\n",
              "      div.appendChild(a);\n",
              "      a.click();\n",
              "      div.remove();\n",
              "    }\n",
              "  "
            ],
            "text/plain": [
              "<IPython.core.display.Javascript object>"
            ]
          },
          "metadata": {
            "tags": []
          }
        },
        {
          "output_type": "display_data",
          "data": {
            "application/javascript": [
              "download(\"download_d91c8e70-791b-4204-8a82-784411d11877\", \"quarters.csv\", 103)"
            ],
            "text/plain": [
              "<IPython.core.display.Javascript object>"
            ]
          },
          "metadata": {
            "tags": []
          }
        },
        {
          "output_type": "display_data",
          "data": {
            "application/javascript": [
              "\n",
              "    async function download(id, filename, size) {\n",
              "      if (!google.colab.kernel.accessAllowed) {\n",
              "        return;\n",
              "      }\n",
              "      const div = document.createElement('div');\n",
              "      const label = document.createElement('label');\n",
              "      label.textContent = `Downloading \"${filename}\": `;\n",
              "      div.appendChild(label);\n",
              "      const progress = document.createElement('progress');\n",
              "      progress.max = size;\n",
              "      div.appendChild(progress);\n",
              "      document.body.appendChild(div);\n",
              "\n",
              "      const buffers = [];\n",
              "      let downloaded = 0;\n",
              "\n",
              "      const channel = await google.colab.kernel.comms.open(id);\n",
              "      // Send a message to notify the kernel that we're ready.\n",
              "      channel.send({})\n",
              "\n",
              "      for await (const message of channel.messages) {\n",
              "        // Send a message to notify the kernel that we're ready.\n",
              "        channel.send({})\n",
              "        if (message.buffers) {\n",
              "          for (const buffer of message.buffers) {\n",
              "            buffers.push(buffer);\n",
              "            downloaded += buffer.byteLength;\n",
              "            progress.value = downloaded;\n",
              "          }\n",
              "        }\n",
              "      }\n",
              "      const blob = new Blob(buffers, {type: 'application/binary'});\n",
              "      const a = document.createElement('a');\n",
              "      a.href = window.URL.createObjectURL(blob);\n",
              "      a.download = filename;\n",
              "      div.appendChild(a);\n",
              "      a.click();\n",
              "      div.remove();\n",
              "    }\n",
              "  "
            ],
            "text/plain": [
              "<IPython.core.display.Javascript object>"
            ]
          },
          "metadata": {
            "tags": []
          }
        },
        {
          "output_type": "display_data",
          "data": {
            "application/javascript": [
              "download(\"download_9f3e1972-a26e-4977-8cc9-19a82443d69d\", \"active_users.csv\", 7189)"
            ],
            "text/plain": [
              "<IPython.core.display.Javascript object>"
            ]
          },
          "metadata": {
            "tags": []
          }
        }
      ]
    },
    {
      "cell_type": "markdown",
      "metadata": {
        "id": "imKnOXICoiUc"
      },
      "source": [
        "## Connection Closure"
      ]
    },
    {
      "cell_type": "code",
      "metadata": {
        "id": "vVyxhBRWlUow"
      },
      "source": [
        "con.close()"
      ],
      "execution_count": null,
      "outputs": []
    }
  ]
}